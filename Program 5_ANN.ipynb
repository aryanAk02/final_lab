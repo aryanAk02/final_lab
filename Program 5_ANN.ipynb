{
 "cells": [
  {
   "cell_type": "code",
   "execution_count": 15,
   "id": "4a6b8f8b",
   "metadata": {},
   "outputs": [],
   "source": [
    "import numpy as np \n",
    "X = np.array(([2, 9], [1, 5], [3, 6]), dtype=float) #(Hours studied,Hours slept)\n",
    "y = np.array(([92], [86], [89]), dtype=float) #Test score\n",
    "X = X/np.amax(X,axis=0) # maximum of X array longitudinally \n",
    "y = y/100 # as maximum test score is 100"
   ]
  },
  {
   "cell_type": "code",
   "execution_count": 16,
   "id": "2d9c1e2a",
   "metadata": {},
   "outputs": [],
   "source": [
    "#Sigmoid Function \n",
    "def sigmoid (x): \n",
    "    return 1/(1 + np.exp(-x)) \n",
    "\n",
    "#Derivative of Sigmoid Function \n",
    "def derivatives_sigmoid (x):\n",
    "    return x*(1-x) "
   ]
  },
  {
   "cell_type": "code",
   "execution_count": 17,
   "id": "c79d54f7",
   "metadata": {},
   "outputs": [],
   "source": [
    "#Variable initialization \n",
    "epoch=7000 #Setting training iterations \n",
    "lr=0.2 #Setting learning rate \n",
    "inputlayer_neurons = 2 #number of features in data set \n",
    "hiddenlayer_neurons = 3 #number of hidden layers neurons \n",
    "output_neurons = 1 #number of neurons at output layer\n"
   ]
  },
  {
   "cell_type": "code",
   "execution_count": 18,
   "id": "dac303c4",
   "metadata": {},
   "outputs": [],
   "source": [
    "#weight and bias initialization \n",
    "wh=np.random.uniform(size=(inputlayer_neurons,hiddenlayer_neurons)) \n",
    "bh=np.random.uniform(size=(1,hiddenlayer_neurons)) \n",
    "wout=np.random.uniform(size=(hiddenlayer_neurons,output_neurons)) \n",
    "bout=np.random.uniform(size=(1,output_neurons)) "
   ]
  },
  {
   "cell_type": "code",
   "execution_count": 19,
   "id": "c959c5ca",
   "metadata": {},
   "outputs": [],
   "source": [
    "#draws a random range of numbers uniformly of dim x*y \n",
    "for i in range(epoch):\n",
    "#Forward Propogation \n",
    "    hinp1=np.dot(X,wh) \n",
    "hinp=hinp1 + bh \n",
    "hlayer_act = sigmoid(hinp) \n",
    "outinp1=np.dot(hlayer_act,wout) \n",
    "outinp= outinp1+ bout \n",
    "output = sigmoid(outinp)"
   ]
  },
  {
   "cell_type": "code",
   "execution_count": 20,
   "id": "be67dd38",
   "metadata": {},
   "outputs": [],
   "source": [
    "#Backpropagation \n",
    "EO = y-output \n",
    "outgrad = derivatives_sigmoid(output) "
   ]
  },
  {
   "cell_type": "code",
   "execution_count": 21,
   "id": "e6cb4887",
   "metadata": {},
   "outputs": [
    {
     "name": "stdout",
     "output_type": "stream",
     "text": [
      "Input: \n",
      "[[0.66666667 1.        ]\n",
      " [0.33333333 0.55555556]\n",
      " [1.         0.66666667]]\n",
      "Actual Output: \n",
      "[[0.92]\n",
      " [0.86]\n",
      " [0.89]]\n",
      "Predicted Output: \n",
      " [[0.86468539]\n",
      " [0.85082127]\n",
      " [0.86427881]]\n"
     ]
    }
   ],
   "source": [
    "d_output = EO* outgrad \n",
    "EH = d_output.dot(wout.T) \n",
    "hiddengrad = derivatives_sigmoid(hlayer_act)\n",
    "#how much hidden layer weights contributed to error \n",
    "d_hiddenlayer = EH * hiddengrad \n",
    "wout += hlayer_act.T.dot(d_output) *lr# dotproduct of nextlayererror and currentlayerop\n",
    "#bout += np.sum(d_output, axis=0,keepdims=True) *lr \n",
    "wh += X.T.dot(d_hiddenlayer) *lr \n",
    "#bh += np.sum(d_hiddenlayer, axis=0,keepdims=True) *lr \n",
    "print(\"Input: \\n\" + str(X)) \n",
    "print(\"Actual Output: \\n\" + str(y)) \n",
    "print(\"Predicted Output: \\n\" ,output)"
   ]
  }
 ],
 "metadata": {
  "kernelspec": {
   "display_name": "Python 3",
   "language": "python",
   "name": "python3"
  },
  "language_info": {
   "codemirror_mode": {
    "name": "ipython",
    "version": 3
   },
   "file_extension": ".py",
   "mimetype": "text/x-python",
   "name": "python",
   "nbconvert_exporter": "python",
   "pygments_lexer": "ipython3",
   "version": "3.11.2"
  }
 },
 "nbformat": 4,
 "nbformat_minor": 5
}
