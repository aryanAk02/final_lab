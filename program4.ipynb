{
 "cells": [
  {
   "cell_type": "code",
   "execution_count": 1,
   "metadata": {},
   "outputs": [
    {
     "name": "stdout",
     "output_type": "stream",
     "text": [
      "{'Outlook': {0: {'Humidity': {0: 0, 1: 1}}, 1: 1, 2: {'Wind': {0: 1, 1: 0}}}}\n"
     ]
    }
   ],
   "source": [
    "import pandas as pd\n",
    "from sklearn.feature_selection import mutual_info_classif\n",
    "from collections import Counter\n",
    "\n",
    "def id3(df, target, attribute, default_class = None):\n",
    "\tcounter = Counter(x for x in df[target])\n",
    "\tif len(counter) == 1:\n",
    "\t\treturn next(iter(counter))\n",
    "\telif df.empty or (not attribute):\n",
    "\t\treturn default_class\n",
    "\telse:\n",
    "\t\tgain = mutual_info_classif(df[attribute], df[target], discrete_features = True)\n",
    "\t\tindex = gain.tolist().index(max(gain))\n",
    "\t\tbest_attr = attribute[index]\n",
    "\t\ttree = {best_attr: {}}\n",
    "\t\trem_attr = [i for i in attribute if i != best_attr]\n",
    "\n",
    "\t\tfor attr, data in df.groupby(best_attr):\n",
    "\t\t\ttree[best_attr][attr] = id3(data, target, rem_attr, default_class)\n",
    "\t\treturn tree\n",
    "\n",
    "df = pd.read_csv('data.csv')\n",
    "attribute = df.columns.tolist()\n",
    "attribute.remove('Decision')\n",
    "for cols in df.select_dtypes(\"object\"):\n",
    "\tdf[cols], _ = df[cols].factorize()\n",
    "print(id3(df, 'Decision', attribute))\n"
   ]
  }
 ],
 "metadata": {
  "kernelspec": {
   "display_name": "Python 3",
   "language": "python",
   "name": "python3"
  },
  "language_info": {
   "codemirror_mode": {
    "name": "ipython",
    "version": 3
   },
   "file_extension": ".py",
   "mimetype": "text/x-python",
   "name": "python",
   "nbconvert_exporter": "python",
   "pygments_lexer": "ipython3",
   "version": "3.11.2"
  }
 },
 "nbformat": 4,
 "nbformat_minor": 2
}
